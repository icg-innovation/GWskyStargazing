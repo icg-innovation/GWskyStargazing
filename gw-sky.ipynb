{
 "cells": [
  {
   "cell_type": "code",
   "execution_count": null,
   "id": "44650863-d02a-465f-aca6-1081ef036e5c",
   "metadata": {},
   "outputs": [],
   "source": [
    "%matplotlib inline\n",
    "%reload_ext autoreload \n",
    "%autoreload 2\n",
    "import numpy as np\n",
    "\n",
    "import matplotlib.pyplot as plt\n",
    "import wavio as wav\n",
    "from strauss.sonification import Sonification\n",
    "from strauss.sources import Events\n",
    "from strauss import channels\n",
    "from strauss.score import Score\n",
    "import numpy as np\n",
    "from strauss.generator import Sampler\n",
    "import IPython.display as ipd\n",
    "import os\n",
    "import pandas as pd\n",
    "from datetime import datetime as dt\n",
    "from matplotlib import patheffects\n",
    "\n",
    "from scipy.io.wavfile import write\n",
    "import warnings\n",
    "warnings.filterwarnings(\"ignore\", \"Wswiglal-redir-stdio\")\n",
    "import lal\n",
    "from pathlib import Path\n",
    "\n",
    "from pycbc.psd.analytical import aLIGO140MpcT1800545\n",
    "from pycbc.waveform import get_td_waveform"
   ]
  },
  {
   "cell_type": "code",
   "execution_count": null,
   "id": "cf54befd-d6f1-4eb0-b8c0-8f16ff296518",
   "metadata": {},
   "outputs": [],
   "source": [
    "# output sampling rate\n",
    "SAMPRATE = 48000\n",
    "\n",
    "# base total mass for calculation (degenerate with PLO, keep the same)\n",
    "MBASE = 40\n",
    "\n",
    "# Frames per second for video\n",
    "FPS = 30\n",
    "\n",
    "# Length of sequence in seconds :: 90s = 1m 30s\n",
    "DURATION = 90\n",
    "\n",
    "# relative overall pitch shift in semitones compared with fiducial setup:\n",
    "PLO = 0\n",
    "\n",
    "# seed randoms\n",
    "np.random.seed(42)"
   ]
  },
  {
   "cell_type": "markdown",
   "id": "d4699f3e-9029-48f5-a3a0-0ca9e6acc256",
   "metadata": {},
   "source": [
    "## Read Events"
   ]
  },
  {
   "cell_type": "code",
   "execution_count": null,
   "id": "80d5c1ce-3651-410e-a800-a514c91c81cf",
   "metadata": {},
   "outputs": [],
   "source": [
    "# detections downloaded from gwosc.com\n",
    "dets = pd.read_csv('detections.csv')\n",
    "\n",
    "# supplementary file costructed from chain (ML positions courtesy of Michael Williams)\n",
    "pos = pd.read_csv('gw_parameters_ra_dec_dl.csv')"
   ]
  },
  {
   "cell_type": "code",
   "execution_count": null,
   "id": "70bba978-f6bc-47e9-b086-9bff6227432d",
   "metadata": {},
   "outputs": [],
   "source": [
    "tstamps = []\n",
    "\n",
    "dfmt = \"%y%m%d_%H%M%S\"\n",
    "for i in range(len(dets['id'])):\n",
    "    date = dets['id'][i][2:].split('-')[0]\n",
    "    if len(date.split('_')) < 2:\n",
    "        date += \"_000000\"\n",
    "    dtime = dt.strptime(date, dfmt)\n",
    "    tstamps.append(dt.timestamp(dtime))\n",
    "\n",
    "tstamps = np.array(tstamps)\n",
    "dets['tstamp'] = tstamps\n"
   ]
  },
  {
   "cell_type": "code",
   "execution_count": null,
   "id": "4eee3afa-9272-429d-b944-213b529c0295",
   "metadata": {},
   "outputs": [],
   "source": [
    "dets['mrat'] = dets['mass_1_source'].values / dets['mass_2_source'].values\n",
    "dets['mtot'] = (dets['mass_1_source'].values + dets['mass_2_source'].values)\n",
    "dets.dropna(subset=['mrat','mtot','luminosity_distance'], inplace=True)"
   ]
  },
  {
   "cell_type": "markdown",
   "id": "0af754e5-2295-489b-ad37-40e39634250a",
   "metadata": {},
   "source": [
    "## Make Waveforms "
   ]
  },
  {
   "cell_type": "markdown",
   "id": "00350e1b-aa70-4ae2-bd86-c72a26278f87",
   "metadata": {},
   "source": [
    "_Note: Because the event times are for the merger itself (which happens ~at end of waveform), and samples are quite long compared to sonficiation times, it makes sense to sonify time backwards with reversed samples, and reverse everything at the end! That's why we save the samples as reversed._"
   ]
  },
  {
   "cell_type": "code",
   "execution_count": null,
   "id": "40782120-7200-475f-ad75-2710a95f53bf",
   "metadata": {},
   "outputs": [],
   "source": [
    "# get keyboard notes for sampler loading...\n",
    "\n",
    "cmaj = list('CDEFGAB')\n",
    "\n",
    "notes = list(('1,'.join(cmaj)+'1').split(',')) + \\\n",
    "        list(('2,'.join(cmaj)+'2').split(',')) + \\\n",
    "        list(('3,'.join(cmaj)+'3').split(',')) + \\\n",
    "        list(('4,'.join(cmaj)+'4').split(',')) + \\\n",
    "        list(('5,'.join(cmaj)+'5').split(',')) + \\\n",
    "        list(('6,'.join(cmaj)+'6').split(','))"
   ]
  },
  {
   "cell_type": "code",
   "execution_count": null,
   "id": "132b798c-92d1-4f38-a9c5-1ed14ae2980b",
   "metadata": {},
   "outputs": [],
   "source": [
    "# construct sample bank for different mass ratios\n",
    "\n",
    "def waveform(mass_ratio = 1., mtotal = MBASE):\n",
    "    hp, _ = get_td_waveform(approximant='IMRPhenomXAS',\n",
    "                            mass1 = mtotal * mass_ratio / (1. + mass_ratio),\n",
    "                            mass2 = mtotal / (1. + mass_ratio),\n",
    "                            f_lower = 25,\n",
    "                            delta_t = 1./SAMPRATE)\n",
    "    return hp.numpy() / hp.max(), hp.max()\n",
    "\n",
    "\n",
    "\n",
    "mrat_pcs = np.percentile(dets['mrat'].values, np.linspace(0,100, len(notes)+1))\n",
    "mrat_pcs[-1] += 1e-5\n",
    "mratbins = np.digitize(dets['mrat'].values, mrat_pcs,right=False)\n",
    "\n",
    "\n",
    "# Iterate for audio sample subset and save GW sample pack...\n",
    "sdir = './samples/gws'\n",
    "Path(sdir).mkdir(parents=True, exist_ok=True)\n",
    "for i in range(len(notes)):\n",
    "    q = 0.5*(mrat_pcs[i] + mrat_pcs[i+1])\n",
    "    wf, _ = waveform(q, MBASE)\n",
    "    write(f\"{sdir}/gws_{notes[i]}.wav\", SAMPRATE, (wf[::-1]*(pow(2,31)-1)).astype(np.int32))\n",
    "\n",
    "# Iterate through all events for intrinsic peak strain amplitudes... (NB could also use SNRs...)\n",
    "intrinsic_amps = []\n",
    "for i in range(len(dets['mtot'])):\n",
    "        wf, h = waveform(dets['mrat'].values[i], dets['mtot'].values[i])\n",
    "        intrinsic_amps.append(h)\n",
    "intrinsic_amps = np.array(intrinsic_amps)\n",
    "intrinsic_amps /= intrinsic_amps.max()\n",
    "\n",
    "dets['mratbin'] = mratbins\n",
    "dets['hrelnorm'] = np.array(intrinsic_amps)[mratbins-1]/dets['luminosity_distance'].values\n",
    "dets['hrelnorm'] /= dets['hrelnorm'].max()\n",
    "\n",
    "\n",
    "# random directions for now\n",
    "dets['ra'] = 2 * np.pi * np.random.random(len(dets['mrat']))\n",
    "dets['dec'] = np.arcsin(1 - 2 * np.random.random(len(dets['mrat']))) \n",
    "plt.scatter(dets['ra'], dets['dec'])"
   ]
  },
  {
   "cell_type": "code",
   "execution_count": null,
   "id": "2f002b9f-3dea-4af5-9000-8479ab26edec",
   "metadata": {},
   "outputs": [],
   "source": [
    "# cross match positions to detections with all the one's we have, using random positions for those we don't\n",
    "\n",
    "conforming_ids = []\n",
    "for i in range(pos['id'].values.size):\n",
    "    id = pos['id'][i]\n",
    "    if int(id[2:4]) <= 17:\n",
    "        id = id.split('_')[0]\n",
    "    conforming_ids.append(id)\n",
    "print(conforming_ids)\n",
    "pos['commonName'] = conforming_ids\n",
    "dets = pd.merge(dets,pos[['ra', 'dec', 'commonName']], suffixes=('_rand',None), how='left', on='commonName')\n",
    "print(dets[np.isnan(dets['ra'])].dropna())\n",
    "dets.ra.fillna(dets.ra_rand, inplace=True)\n",
    "del dets['ra_rand']\n",
    "dets.dec.fillna(dets.dec_rand, inplace=True)\n",
    "del dets['dec_rand']"
   ]
  },
  {
   "cell_type": "code",
   "execution_count": null,
   "id": "9709dcc6-766b-46c1-81bf-5b0d19911c7d",
   "metadata": {},
   "outputs": [],
   "source": [
    "# Do we want to cut just O3? WE sould construct a custom timebase where time speeds up between observing runs\n",
    "\n",
    "# This will isolate O3 alone:\n",
    "#dets = dets[dets.tstamp >1.5535e9]"
   ]
  },
  {
   "cell_type": "markdown",
   "id": "3176a972-2588-4b37-952f-e933ccfc6aa6",
   "metadata": {},
   "source": [
    "## Let's Sonify"
   ]
  },
  {
   "cell_type": "code",
   "execution_count": null,
   "id": "00821a5d-b426-4004-a081-71a45d3a6830",
   "metadata": {},
   "outputs": [],
   "source": [
    "# plot some data...\n",
    "plt.scatter(dets['tstamp'],dets['hrelnorm']**0.5, c=dets['mratbin'], s=dets['mtot']*0.4), "
   ]
  },
  {
   "cell_type": "code",
   "execution_count": null,
   "id": "c6a7c64a-03ce-4900-95c0-f2e02c0d208d",
   "metadata": {},
   "outputs": [],
   "source": [
    "# stereo for testing, for production want an ambisonic render (e.g. 'ambiX2' or 'ambix3', higher the better)\n",
    "chords = [notes]\n",
    "length = DURATION\n",
    "system = 'stereo' #'ambiX3'\n",
    "score =  Score(chords, length)"
   ]
  },
  {
   "cell_type": "code",
   "execution_count": null,
   "id": "b045062f-31b7-4687-b368-28b3f9335c9f",
   "metadata": {},
   "outputs": [],
   "source": [
    "sampler = Sampler(\"./samples/gws\")\n",
    "sampler.preset_details(\"default\")\n",
    "sampler.modify_preset({\"note_length\": 20})"
   ]
  },
  {
   "cell_type": "code",
   "execution_count": null,
   "id": "a7ffed56-12ac-4ed6-8515-7be767606919",
   "metadata": {},
   "outputs": [],
   "source": [
    "# random directions for now\n",
    "# phi = 360 * np.random.random(len(dets['mrat']))\n",
    "# theta = np.arccos(1 - 2 * np.random.random(len(dets['mrat']))) * 180/np.pi"
   ]
  },
  {
   "cell_type": "code",
   "execution_count": null,
   "id": "328ded90-704d-4c2d-b603-c3425d7b52c4",
   "metadata": {},
   "outputs": [],
   "source": [
    "# Set with globals, but could set here\n",
    "# PLO = 0\n",
    "\n",
    "# sonify - remember we sonify backwards in time to align merger times better with chirp!\n",
    "data = {'azimuth': dets['ra'].values*180/np.pi,\n",
    "        'polar': dets['dec'].values*180/np.pi,\n",
    "        'time': 5e9-dets['tstamp'].values,\n",
    "        'pitch': dets['mratbin'].values,\n",
    "        'volume': dets['hrelnorm'].values,\n",
    "        'pitch_shift': dets['mtot'].values\n",
    "       }\n",
    "\n",
    "\n",
    "mapvals =  {'azimuth': lambda x : (90-x)%360,\n",
    "            'polar': lambda x : 90-x,\n",
    "            'time': lambda x : x,\n",
    "            'pitch' : lambda x: x,\n",
    "            'volume' : lambda x : x**0.35,\n",
    "            'pitch_shift': lambda x : x\n",
    "           }\n",
    "\n",
    "maplims =  {'azimuth': (0, 360),\n",
    "            'polar': (0, 180),\n",
    "            'time': ('0', '100.01'),\n",
    "            'pitch' : ('0', '100'),\n",
    "            'volume' : ('0', '100'),\n",
    "            'pitch_shift': ('0', '100')\n",
    "           }\n",
    "\n",
    "events = Events(data.keys())\n",
    "events.fromdict(data)\n",
    "events.apply_mapping_functions(mapvals, maplims, param_lims={'pitch_shift': (PLO, np.log2(dets['mrat'].max()/dets['mrat'].min())*12+PLO)})"
   ]
  },
  {
   "cell_type": "code",
   "execution_count": null,
   "id": "69a51757-a2d0-48c5-a84f-34f8a2721783",
   "metadata": {},
   "outputs": [],
   "source": [
    "soni = Sonification(score, events, sampler, system)\n",
    "soni.render()"
   ]
  },
  {
   "cell_type": "code",
   "execution_count": null,
   "id": "8a3d1b00-0e3c-418e-a844-2fa6f407bb1f",
   "metadata": {},
   "outputs": [],
   "source": [
    "# Reverse to get sonification!! (todo - add feature to strauss)\n",
    "for c in range(len(soni.out_channels)):\n",
    "    soni.out_channels[str(c)].values = soni.out_channels[str(c)].values[::-1]"
   ]
  },
  {
   "cell_type": "code",
   "execution_count": null,
   "id": "51d5dd51-fe57-4e19-bb11-0079440a6436",
   "metadata": {},
   "outputs": [],
   "source": [
    "soni.notebook_display()\n",
    "soni.save(f'gw_sky_{system}.wav')"
   ]
  },
  {
   "cell_type": "markdown",
   "id": "0b5db78d-33e8-45b4-8682-181f013d89fc",
   "metadata": {},
   "source": [
    "## Video Making"
   ]
  },
  {
   "cell_type": "markdown",
   "id": "2e283d3d-a218-4750-b658-351cac3c7286",
   "metadata": {},
   "source": [
    "### Timestamp Layer frames"
   ]
  },
  {
   "cell_type": "code",
   "execution_count": null,
   "id": "07b22858-4b5f-4b6b-a7dc-7511856d69a8",
   "metadata": {},
   "outputs": [],
   "source": [
    "Path(\"text_frames2\").mkdir(parents=True, exist_ok=True)\n",
    "tstamps = -np.linspace(-dets['tstamp'].min()*1.0001, -dets['tstamp'].max(), FPS*DURATION)\n",
    "flg = 0\n",
    "\n",
    "for ts in tstamps:\n",
    "    t = dt.fromtimestamp(ts).strftime('%d / %m / %Y')\n",
    "    fig=plt.figure(figsize=(5.,1.2))\n",
    "    ax=fig.add_subplot(1,1,1)\n",
    "    ax.axis('off')\n",
    "    plt.text(0.5, 0.5, t,horizontalalignment='center',verticalalignment='center',transform = ax.transAxes, fontsize=52,\n",
    "            path_effects=[patheffects.withStroke(linewidth=6, foreground='black', capstyle=\"round\")],\n",
    "            color='w')\n",
    "    plt.xlim(0,1)\n",
    "    plt.ylim(0,1)\n",
    "    plt.savefig(f'text_frames2/tstamp_{flg:05d}.png',dpi=75, transparent=1)\n",
    "    flg += 1\n",
    "    plt.close()"
   ]
  },
  {
   "cell_type": "markdown",
   "id": "35c04aa2-d7aa-442d-85b6-4dd39034a2f6",
   "metadata": {},
   "source": [
    "### Animation?"
   ]
  },
  {
   "cell_type": "markdown",
   "id": "9dac5ca6-5053-4876-b901-bac32dbe3616",
   "metadata": {},
   "source": [
    "🚧🚧 _Work in Progress..._ 🚧🚧"
   ]
  },
  {
   "cell_type": "code",
   "execution_count": null,
   "id": "80f81320-53cd-4995-9647-e5b9234c90b8",
   "metadata": {},
   "outputs": [],
   "source": [
    "chan = channels.audio_channels('ambiX9')\n",
    "\n",
    "Nx = 2560//2\n",
    "Ny = 1440//2\n",
    "\n",
    "phis = np.column_stack([np.linspace(0, 2*np.pi, Nx)]*Ny)\n",
    "thets = np.row_stack([np.linspace(0, np.pi, Ny)]*Nx)\n",
    "\n",
    "harmlist = []\n",
    "\n",
    "for i in range(len(chan.mics)):\n",
    "    harmlist.append(chan.mics[i].antenna(phis,thets))"
   ]
  },
  {
   "cell_type": "code",
   "execution_count": null,
   "id": "29b612b5-9672-44c0-951f-0ae8792bad5f",
   "metadata": {},
   "outputs": [],
   "source": [
    "total = np.zeros((Nx,Ny))\n",
    "\n",
    "#framestack = np.dstack([np.dstack(harmlist)]*dets,ra.size)\n",
    "#print(framestack.size)\n",
    "\n",
    "tau = 8\n",
    "\n",
    "kern = lambda framedx, tauframe: (framedx)*np.exp(-(framedx/(tauframe)))\n",
    "\n",
    "\n",
    "for j in range(len(events.mapping['phi']))[:1]:\n",
    "    for i in range(len(chan.mics)):\n",
    "        norm = events.mapping['volume'][j]*chan.mics[i].antenna(events.mapping['phi'][j]*2*np.pi, events.mapping['theta'][j]*np.pi).sum()\n",
    "        total += norm*harmlist[i]\n",
    "    \n",
    "plt.imshow(total.T**5, cmap='cubehelix',extent=(0,2*np.pi,-0.5*np.pi,0.5*np.pi))\n",
    "plt.scatter(dets['ra'].values, dets['dec'].values, s=dets['hrelnorm'].values*100,c='0.8',edgecolor='k',lw=1)\n",
    "plt.xlim(0,2*np.pi)\n",
    "plt.ylim(-0.5*np.pi,0.5*np.pi)"
   ]
  },
  {
   "cell_type": "code",
   "execution_count": null,
   "id": "6a8f40eb-bc80-47e9-ae4d-9a85deca2558",
   "metadata": {},
   "outputs": [],
   "source": [
    "events.mapping['time']"
   ]
  },
  {
   "cell_type": "code",
   "execution_count": null,
   "id": "0ed62275-3002-4c4d-9a86-51697b5e4951",
   "metadata": {},
   "outputs": [],
   "source": [
    "from scipy.stats import skewnorm"
   ]
  },
  {
   "cell_type": "code",
   "execution_count": null,
   "id": "f190a3f5-f7c0-42b3-bcc8-546e7b317d34",
   "metadata": {},
   "outputs": [],
   "source": [
    "ts = np.linspace(-60,60,800)\n"
   ]
  },
  {
   "cell_type": "code",
   "execution_count": null,
   "id": "e0547af8-34f2-462d-b8a1-b3d313bc3cee",
   "metadata": {},
   "outputs": [],
   "source": [
    "print(framestack.sum(-1).sum(-1))"
   ]
  },
  {
   "cell_type": "code",
   "execution_count": null,
   "id": "101b952c-e6ed-483b-a46a-3c6f36121a13",
   "metadata": {},
   "outputs": [],
   "source": []
  },
  {
   "cell_type": "code",
   "execution_count": null,
   "id": "5ca98406-bf80-4a20-966e-a4d648714139",
   "metadata": {},
   "outputs": [],
   "source": [
    "dets.keys()"
   ]
  },
  {
   "cell_type": "code",
   "execution_count": null,
   "id": "a6a52eac-06d3-43a0-a163-b43636886e7b",
   "metadata": {},
   "outputs": [],
   "source": [
    "import strauss"
   ]
  },
  {
   "cell_type": "code",
   "execution_count": null,
   "id": "8ef5e9e9-c11e-4da6-b00e-2be110480bd1",
   "metadata": {},
   "outputs": [],
   "source": [
    "strauss.__file__"
   ]
  },
  {
   "cell_type": "code",
   "execution_count": null,
   "id": "6c812f52-aaf6-4584-830a-7c8d3f448f73",
   "metadata": {},
   "outputs": [],
   "source": []
  }
 ],
 "metadata": {
  "kernelspec": {
   "display_name": "gw_clear",
   "language": "python",
   "name": "gw_clear"
  },
  "language_info": {
   "codemirror_mode": {
    "name": "ipython",
    "version": 3
   },
   "file_extension": ".py",
   "mimetype": "text/x-python",
   "name": "python",
   "nbconvert_exporter": "python",
   "pygments_lexer": "ipython3",
   "version": "3.8.2"
  }
 },
 "nbformat": 4,
 "nbformat_minor": 5
}
